{
 "cells": [
  {
   "cell_type": "markdown",
   "metadata": {},
   "source": [
    "# Week 3 Bonus - Caesar Cipher more sophisiticated\n",
    "The bonus exercise builds upon the assignment of this week. Here is the description of this weeks exercise again:\n",
    "\n",
    "A [Caesar cipher](https://en.wikipedia.org/wiki/Caesar_cipher) is a simple encryption technique. The encryption using a\n",
    "Ceasar cipher replaces a letter in the plain text with a letter that is a fixed number down in the alphabet. For\n",
    "example, with a shift of 5 the following substitutions would take place:\n",
    "\n",
    "- a → f\n",
    "- b → g\n",
    "- c → h\n",
    "- ...\n",
    "- v → a\n",
    "- w → b\n",
    "- ...\n",
    "- z → e\n",
    "\n",
    "\n",
    "Using this substitutions, a plain text can be encrypted:\n",
    "\n",
    "- Plaintext: programming python is fun!\n",
    "- Encrypted text: uwtlwfrrnsl udymts nx kzs!\n",
    "\n",
    "Your task for the bonus exercise is the implementation of a Caesar cipher with a variable shift. The program should ask\n",
    "the user for a number of characters for the shift first. Next the program should ask the user for a plain text sentence\n",
    "and print the encrypted text. Here is an example execution of the program:\n",
    "\n",
    "    Please enter the number of places to shift: 5\n",
    "    Please enter a sentence: python is fun!\n",
    "    The encrypted sentence is: udymts nx kzs!\n",
    "\n",
    "\n",
    "Here is another execution of the program\n",
    "\n",
    "    Please enter the number of places to shift: 10\n",
    "    Please enter a sentence: python is fun!\n",
    "    The encrypted sentence is: zidryx sc pex!\n",
    "\n",
    "\n",
    "And yet another one\n",
    "\n",
    "    Please enter the number of places to shift: 0\n",
    "    Please enter a sentence: python is fun!\n",
    "    The encrypted sentence is: python is fun!\n",
    "\n",
    "\n",
    "Your program should check that only numbers between 0 and 25 are entered for the number of places to shift!\n",
    "\n",
    "    Please enter the number of places to shift: 60\n",
    "    You need to enter a number between 0 and 25!\n",
    "\n",
    "\n",
    "# Hints\n",
    "\n",
    "1. The simple solution using a dictionary will not work for this exercise. Instead you need to build the substitution\n",
    "   dynamically. This can be done using the\n",
    "   [find method](https://docs.python.org/3/library/stdtypes.html?highlight=index#str.find) and some calculations:\n",
    "\n",
    "    abc = \"abcdefghijklmnopqrstuvw\"\n",
    "    char_index = abc.find(\"f\")\n",
    "    encrypted_char = abc[char_index + 5]\n",
    "\n",
    "\n",
    "1. Note that in the example above there will be an error if char_index +5 is larger then 25. You need to use the modulo\n",
    "   (%) operator to take care of this situation.\n",
    "1. In order to check if the user entered a number, the method\n",
    "   [isdecimal()](https://docs.python.org/3/library/stdtypes.html?highlight=isdigit#str.isdecimal) can be used.\n",
    "1. To avoid handling upper and lower case letters it is best to first convert the user input to lower case. After that\n",
    "   you only need to take into account lower case letters. A string can be converted into lower case using the .lower()\n",
    "   method.\n",
    "\n",
    "The result of the following example\n",
    "\n",
    "    s = \"TEST\"\n",
    "    s = s.lower()\n",
    "    print(s)\n",
    "\n",
    "is:\n",
    "\n",
    "    test"
   ]
  },
  {
   "cell_type": "code",
   "execution_count": 13,
   "metadata": {},
   "outputs": [
    {
     "name": "stdout",
     "output_type": "stream",
     "text": [
      "mjqu rj uqjfxj\n"
     ]
    }
   ],
   "source": [
    "abc = \"abcdefghijklmnopqrstuvwxyz\"\n",
    "\n",
    "shift = int(input(\"Please enter the number of places to shift: \"))\n",
    "plain_text = input(\"Please enter a sentence: \")\n",
    "plain_text = plain_text.lower()\n",
    "\n",
    "secret_text = \"\"\n",
    "\n",
    "for char in plain_text:\n",
    "    if char in abc:\n",
    "        index = abc.find(char)\n",
    "        index = (index + shift) % 26\n",
    "        char = abc[index]\n",
    "    secret_text += char\n",
    "    \n",
    "print(secret_text)"
   ]
  },
  {
   "cell_type": "code",
   "execution_count": 28,
   "metadata": {},
   "outputs": [
    {
     "name": "stdout",
     "output_type": "stream",
     "text": [
      "ymnx nx rfpnsl rd mjfi mzwy\n"
     ]
    }
   ],
   "source": [
    "abc = \"abcdefghijklmnopqrstuvwxyz\"\n",
    "\n",
    "shft = int(input(\"Please enter the number of places to shift: \"))\n",
    "pln_txt = input (\"Please enter a sentence: \")\n",
    "pln_txt = pln_txt.lower()\n",
    "\n",
    "cipher_txt = \"\"\n",
    "\n",
    "for char in pln_txt:\n",
    "    if char in abc:\n",
    "        char_index = abc.find(char)\n",
    "        char_index = (char_index + shft) % 26\n",
    "        char = abc[char_index]\n",
    "    cipher_txt += char\n",
    "    \n",
    "print(cipher_txt)\n",
    "        "
   ]
  },
  {
   "cell_type": "code",
   "execution_count": 34,
   "metadata": {},
   "outputs": [
    {
     "name": "stdout",
     "output_type": "stream",
     "text": [
      "Your ciphertext is:  t with negative shift of 5\n",
      "Your ciphertext is:  th with negative shift of 5\n",
      "Your ciphertext is:  thi with negative shift of 5\n",
      "Your ciphertext is:  this with negative shift of 5\n",
      "Your ciphertext is:  thisi with negative shift of 5\n",
      "Your ciphertext is:  thisis with negative shift of 5\n",
      "Your ciphertext is:  thisism with negative shift of 5\n",
      "Your ciphertext is:  thisisma with negative shift of 5\n",
      "Your ciphertext is:  thisismak with negative shift of 5\n",
      "Your ciphertext is:  thisismaki with negative shift of 5\n",
      "Your ciphertext is:  thisismakin with negative shift of 5\n",
      "Your ciphertext is:  thisismaking with negative shift of 5\n",
      "Your ciphertext is:  thisismakingm with negative shift of 5\n",
      "Your ciphertext is:  thisismakingm_ with negative shift of 5\n",
      "Your ciphertext is:  thisismakingm_h with negative shift of 5\n",
      "Your ciphertext is:  thisismakingm_he with negative shift of 5\n",
      "Your ciphertext is:  thisismakingm_hea with negative shift of 5\n",
      "Your ciphertext is:  thisismakingm_head with negative shift of 5\n",
      "Your ciphertext is:  thisismakingm_headh with negative shift of 5\n",
      "Your ciphertext is:  thisismakingm_headhu with negative shift of 5\n",
      "Your ciphertext is:  thisismakingm_headhur with negative shift of 5\n",
      "Your ciphertext is:  thisismakingm_headhurt with negative shift of 5\n"
     ]
    }
   ],
   "source": [
    "\n",
    "#decrypte \n",
    "encryption=input(\"enter in your encrypted code\")\n",
    "encryption_shift=int(input(\"enter in your encryption shift\"))\n",
    "\n",
    "cipherText1 = \"\"\n",
    "for c in encryption:\n",
    "    if c.isalpha():\n",
    "        stayInAlphabet1 = ord(c) - encryption_shift\n",
    "    if stayInAlphabet1 > ord('z'):\n",
    "        stayInAlphabet1 += 26\n",
    "    finalLetter1 = chr(stayInAlphabet1)\n",
    "    cipherText1 += finalLetter1\n",
    "\n",
    "    print (\"Your ciphertext is: \", cipherText1,\"with negative shift of\",encryption_shift)"
   ]
  }
 ],
 "metadata": {
  "kernelspec": {
   "display_name": "Python 3",
   "language": "python",
   "name": "python3"
  },
  "language_info": {
   "codemirror_mode": {
    "name": "ipython",
    "version": 3
   },
   "file_extension": ".py",
   "mimetype": "text/x-python",
   "name": "python",
   "nbconvert_exporter": "python",
   "pygments_lexer": "ipython3",
   "version": "3.11.9"
  }
 },
 "nbformat": 4,
 "nbformat_minor": 4
}
