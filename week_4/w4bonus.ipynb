{
 "cells": [
  {
   "cell_type": "markdown",
   "metadata": {},
   "source": [
    "# Week 4 Bonus - Rock, Paper Scissors\n",
    "You probably know the game [\"Rock, Paper, Scissors\"](https://en.wikipedia.org/wiki/Rock_paper_scissors). A game for two\n",
    "players. Each player has three options, namely rock, paper, scissors, which are formed by the player's hand. The rules\n",
    "are quite easy:\n",
    "- rock beats scissors\n",
    "- scissors beats paper\n",
    "- paper beats rock.\n",
    "\n",
    "If both players have chosen the same object, it's a draw.\n",
    "\n",
    "In the following, we play 100 consecutive games. Each player has to hand in a file consisting of one letter per line.\n",
    "The letters are either \"R\", \"P\" or \"S\".\n",
    "\n",
    "Write a Python program that reads two files `player1.txt` and `player2.txt`. These files are organized according to the\n",
    "above rules. The program should compare both inputs and calculate how many games have been won by player1, by player2\n",
    "and how many games ended in a draw. The results are written into a file `result.txt` which looks as follows:\n",
    "\n",
    "\tPlayer1 wins: 23\n",
    "\tPlayer2 wins: 48\n",
    "\tDraws: 29\n",
    "\n",
    "The sum should always be 100."
   ]
  },
  {
   "cell_type": "code",
   "execution_count": null,
   "metadata": {},
   "outputs": [
    {
     "name": "stdout",
     "output_type": "stream",
     "text": [
      "Final Scores after 100 games:\n",
      "Player 1: 0\n",
      "Player 2: 198\n",
      "Ties: 0\n"
     ]
    },
    {
     "ename": "TypeError",
     "evalue": "'>' not supported between instances of 'int' and 'list'",
     "output_type": "error",
     "traceback": [
      "\u001b[1;31m---------------------------------------------------------------------------\u001b[0m",
      "\u001b[1;31mTypeError\u001b[0m                                 Traceback (most recent call last)",
      "Cell \u001b[1;32mIn[26], line 49\u001b[0m\n\u001b[0;32m     46\u001b[0m         \u001b[38;5;28mprint\u001b[39m(\u001b[38;5;124m\"\u001b[39m\u001b[38;5;124mIt\u001b[39m\u001b[38;5;124m'\u001b[39m\u001b[38;5;124ms a tie!\u001b[39m\u001b[38;5;124m\"\u001b[39m)\n\u001b[0;32m     48\u001b[0m \u001b[38;5;28;01mif\u001b[39;00m \u001b[38;5;18m__name__\u001b[39m \u001b[38;5;241m==\u001b[39m \u001b[38;5;124m\"\u001b[39m\u001b[38;5;124m__main__\u001b[39m\u001b[38;5;124m\"\u001b[39m:\n\u001b[1;32m---> 49\u001b[0m     \u001b[43mgame_play\u001b[49m\u001b[43m(\u001b[49m\u001b[43m)\u001b[49m   \n",
      "Cell \u001b[1;32mIn[26], line 41\u001b[0m, in \u001b[0;36mgame_play\u001b[1;34m()\u001b[0m\n\u001b[0;32m     37\u001b[0m         score[\u001b[38;5;124m'\u001b[39m\u001b[38;5;124mTie\u001b[39m\u001b[38;5;124m'\u001b[39m] \u001b[38;5;241m+\u001b[39m\u001b[38;5;241m=\u001b[39m \u001b[38;5;241m1\u001b[39m\n\u001b[0;32m     39\u001b[0m \u001b[38;5;28mprint\u001b[39m(\u001b[38;5;124mf\u001b[39m\u001b[38;5;124m\"\u001b[39m\u001b[38;5;124mFinal Scores after 100 games:\u001b[39m\u001b[38;5;130;01m\\n\u001b[39;00m\u001b[38;5;124mPlayer 1: \u001b[39m\u001b[38;5;132;01m{\u001b[39;00mscore[\u001b[38;5;124m'\u001b[39m\u001b[38;5;124mp1\u001b[39m\u001b[38;5;124m'\u001b[39m]\u001b[38;5;132;01m}\u001b[39;00m\u001b[38;5;130;01m\\n\u001b[39;00m\u001b[38;5;124mPlayer 2: \u001b[39m\u001b[38;5;132;01m{\u001b[39;00mscore[\u001b[38;5;124m'\u001b[39m\u001b[38;5;124mp2\u001b[39m\u001b[38;5;124m'\u001b[39m]\u001b[38;5;132;01m}\u001b[39;00m\u001b[38;5;130;01m\\n\u001b[39;00m\u001b[38;5;124mTies: \u001b[39m\u001b[38;5;132;01m{\u001b[39;00mscore[\u001b[38;5;124m'\u001b[39m\u001b[38;5;124mtie\u001b[39m\u001b[38;5;124m'\u001b[39m]\u001b[38;5;132;01m}\u001b[39;00m\u001b[38;5;124m\"\u001b[39m)\n\u001b[1;32m---> 41\u001b[0m \u001b[38;5;28;01mif\u001b[39;00m \u001b[43mscore\u001b[49m\u001b[43m[\u001b[49m\u001b[38;5;124;43m'\u001b[39;49m\u001b[38;5;124;43mp1\u001b[39;49m\u001b[38;5;124;43m'\u001b[39;49m\u001b[43m]\u001b[49m\u001b[43m \u001b[49m\u001b[38;5;241;43m>\u001b[39;49m\u001b[43m \u001b[49m\u001b[43m[\u001b[49m\u001b[38;5;124;43m'\u001b[39;49m\u001b[38;5;124;43mp2\u001b[39;49m\u001b[38;5;124;43m'\u001b[39;49m\u001b[43m]\u001b[49m:\n\u001b[0;32m     42\u001b[0m     \u001b[38;5;28mprint\u001b[39m(\u001b[38;5;124m\"\u001b[39m\u001b[38;5;124mPlayer 1 wins!\u001b[39m\u001b[38;5;124m\"\u001b[39m)\n\u001b[0;32m     43\u001b[0m \u001b[38;5;28;01melif\u001b[39;00m score[\u001b[38;5;124m'\u001b[39m\u001b[38;5;124mp2\u001b[39m\u001b[38;5;124m'\u001b[39m] \u001b[38;5;241m>\u001b[39m score[\u001b[38;5;124m'\u001b[39m\u001b[38;5;124mp1\u001b[39m\u001b[38;5;124m'\u001b[39m]:\n",
      "\u001b[1;31mTypeError\u001b[0m: '>' not supported between instances of 'int' and 'list'"
     ]
    }
   ],
   "source": [
    "import random\n",
    "\n",
    "#determine winner\n",
    "def determine_winner(p1, p2):\n",
    "    if p1 == p2:\n",
    "     return 'Tie'\n",
    "    elif (p1 == 'rock' and p2 == 'scissors') or \\\n",
    "         (p1 == 'scissors' and p2 == 'paper') or \\\n",
    "         (p1 == 'paper' and p2 == 'rock'):\n",
    "        return 'Player1 wins 😄'\n",
    "    else:\n",
    "        return 'Player2 wins 😄'\n",
    "        \n",
    "#save games \n",
    "def save_choice(p1, p2, game_num):\n",
    "    with open(f'player1.txt', 'a') as file1, open(f'player2.txt', 'a') as file2:\n",
    "        file1.write(f'Game {game_num}: {p1}\\n')\n",
    "        file2.write(f'Game {game_num}: {p2}\\n')\n",
    "    \n",
    "#main game loop\n",
    "def game_play():\n",
    "    choices = [\"ROCK\", \"PAPER\", \"SCISSORS\"]\n",
    "    score = {\"p1\": 0, \"p2\": 0, \"tie\": 0}\n",
    "    \n",
    "    for game_num in range (1, 100):\n",
    "        p1 = input(\"player_1 choose rock, paper, or scissors\")\n",
    "        p2 = random.choices(choices)\n",
    "\n",
    "        save_choice(p1, p2, game_num)\n",
    "        \n",
    "        result = determine_winner(p1, p2)\n",
    "        if result == 'Player1 wins 😄':\n",
    "            score['p1'] += 2\n",
    "        elif result == 'Player2 wins 😄':\n",
    "            score['p2'] += 2\n",
    "        else:\n",
    "            score['Tie'] += 1\n",
    "            \n",
    "    print(f\"Final Scores after 100 games:\\nPlayer 1: {score['p1']}\\nPlayer 2: {score['p2']}\\nTies: {score['tie']}\")\n",
    "\n",
    "    if score['p1'] > ['p2']:\n",
    "        print(\"Player 1 wins!\")\n",
    "    elif score['p2'] > score['p1']:\n",
    "        print(\"Player 2 wins!\")\n",
    "    else:\n",
    "        print(\"It's a tie!\")\n",
    "\n",
    "if __name__ == \"__main__\":\n",
    "    game_play()   "
   ]
  },
  {
   "cell_type": "code",
   "execution_count": 22,
   "metadata": {},
   "outputs": [
    {
     "name": "stdout",
     "output_type": "stream",
     "text": [
      "You lose! Try again.\n",
      "User Score: 0\n",
      "Computer Score: 1\n",
      "You win! Scissors cut paper.\n",
      "User Score: 1\n",
      "Computer Score: 1\n"
     ]
    }
   ],
   "source": [
    "import random\n",
    "\n",
    "rock = 1\n",
    "paper = 2\n",
    "scissors = 3\n",
    "\n",
    "user_score = 0\n",
    "computer_score = 0\n",
    "\n",
    "while True:\n",
    "    user_choice = int(input(\"Enter your choice (1 - Rock, 2 - Paper, 3 - Scissors): \"))\n",
    "    computer_choice = random.randint(1, 3)\n",
    "    \n",
    "    if user_choice == rock and computer_choice == scissors:\n",
    "        print(\"You win! Rock crushes scissors.\")\n",
    "        user_score += 1\n",
    "    elif user_choice == paper and computer_choice == rock:\n",
    "        print(\"You win! Paper covers rock.\")\n",
    "        user_score += 1\n",
    "    elif user_choice == scissors and computer_choice == paper:\n",
    "        print(\"You win! Scissors cut paper.\")\n",
    "        user_score += 1\n",
    "    elif user_choice == computer_choice:\n",
    "        print(\"It's a tie!\")\n",
    "    else:\n",
    "        print(\"You lose! Try again.\")\n",
    "        computer_score += 1\n",
    "    \n",
    "    print(\"User Score:\", user_score)\n",
    "    print(\"Computer Score:\", computer_score)\n",
    "    \n",
    "    play_again = input(\"Do you want to play again? (y/n): \")\n",
    "    if play_again.lower() != \"y\":\n",
    "        break"
   ]
  },
  {
   "cell_type": "code",
   "execution_count": null,
   "metadata": {},
   "outputs": [
    {
     "name": "stdout",
     "output_type": "stream",
     "text": [
      "Final Scores after 100 games:\n",
      "Player 1: 78\n",
      "Player 2: 56\n",
      "Ties: 33\n",
      "Player 1 wins!\n"
     ]
    }
   ],
   "source": [
    "import random\n",
    "\n",
    "# Function to determine the winner of a single game\n",
    "def determine_winner(player1_choice, player2_choice):\n",
    "    if player1_choice == player2_choice:\n",
    "        return 'tie'\n",
    "    elif (player1_choice == 'rock' and player2_choice == 'scissors') or \\\n",
    "         (player1_choice == 'scissors' and player2_choice == 'paper') or \\\n",
    "         (player1_choice == 'paper' and player2_choice == 'rock'):\n",
    "        return 'player1'\n",
    "    else:\n",
    "        return 'player2'\n",
    "\n",
    "# Function to save choices to files\n",
    "def save_choices(player1_choice, player2_choice, game_number):\n",
    "    with open(f'player1_choices.txt', 'a') as file1, open(f'player2_choices.txt', 'a') as file2:\n",
    "        file1.write(f'Game {game_number}: {player1_choice}\\n')\n",
    "        file2.write(f'Game {game_number}: {player2_choice}\\n')\n",
    "\n",
    "# Main game loop\n",
    "def play_game():\n",
    "    choices = ['rock', 'paper', 'scissors']\n",
    "    scores = {'player1': 0, 'player2': 0, 'tie': 0}\n",
    "\n",
    "    for game_number in range(1, 101):\n",
    "        player1_choice = random.choice(choices)\n",
    "        player2_choice = random.choice(choices)\n",
    "        \n",
    "        save_choices(player1_choice, player2_choice, game_number)\n",
    "        \n",
    "        result = determine_winner(player1_choice, player2_choice)\n",
    "        if result == 'player1':\n",
    "            scores['player1'] += 2\n",
    "        elif result == 'player2':\n",
    "            scores['player2'] += 2\n",
    "        else:\n",
    "            scores['tie'] += 1\n",
    "\n",
    "    print(f\"Final Scores after 100 games:\\nPlayer 1: {scores['player1']}\\nPlayer 2: {scores['player2']}\\nTies: {scores['tie']}\")\n",
    "\n",
    "    if scores['player1'] > scores['player2']:\n",
    "        print(\"Player 1 wins!\")\n",
    "    elif scores['player2'] > scores['player1']:\n",
    "        print(\"Player 2 wins!\")\n",
    "    else:\n",
    "        print(\"It's a tie!\")\n",
    "\n",
    "if __name__ == \"__main__\":\n",
    "    play_game()"
   ]
  }
 ],
 "metadata": {
  "kernelspec": {
   "display_name": "Python 3",
   "language": "python",
   "name": "python3"
  },
  "language_info": {
   "codemirror_mode": {
    "name": "ipython",
    "version": 3
   },
   "file_extension": ".py",
   "mimetype": "text/x-python",
   "name": "python",
   "nbconvert_exporter": "python",
   "pygments_lexer": "ipython3",
   "version": "3.13.0"
  }
 },
 "nbformat": 4,
 "nbformat_minor": 4
}
